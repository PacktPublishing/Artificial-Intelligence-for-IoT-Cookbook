{
 "cells": [
  {
   "cell_type": "markdown",
   "metadata": {},
   "source": [
    "# Take a picture and run the cloud model on it\n",
    "\n",
    "## Prerequisites and cloud credential setup"
   ]
  },
  {
   "cell_type": "code",
   "execution_count": null,
   "metadata": {},
   "outputs": [],
   "source": [
    "import os\n",
    "import glob\n",
    "\n",
    "from azure.cognitiveservices.vision.customvision.training import CustomVisionTrainingClient\n",
    "from azure.cognitiveservices.vision.customvision.training.models import ImageUrlCreateEntry\n",
    "\n",
    "from picamera import PiCamera\n",
    "from time import sleep\n",
    "ENDPOINT = \"https://westus2.api.cognitive.microsoft.com\"\n",
    "\n",
    "# Replace with a valid key\n",
    "training_key = \"YOURTRAININGKEY\"\n",
    "prediction_key = \"YOURPREDICTIONKEY\"\n",
    "prediction_resource_id = \"YOURRESOURCEID\"\n",
    "\n",
    "from azure.cognitiveservices.vision.customvision.prediction import CustomVisionPredictionClient\n",
    "\n",
    "projectid=\"YOURPROJECTID\"\n",
    "# Now there is a trained endpoint that can be used to make a prediction\n",
    "predictor = CustomVisionPredictionClient(prediction_key, endpoint=ENDPOINT)\n",
    "trainer = CustomVisionTrainingClient(training_key,endpoint=ENDPOINT)\n"
   ]
  },
  {
   "cell_type": "markdown",
   "metadata": {},
   "source": [
    "## Find a published iteration"
   ]
  },
  {
   "cell_type": "code",
   "execution_count": null,
   "metadata": {},
   "outputs": [],
   "source": [
    "iterations = trainer.get_iterations(projectid);\n",
    "for iteration in iterations:\n",
    "    print(iteration.name + \"\\t\" + iteration.id + \"\\t\" + iteration.status, end=' ' )\n",
    "    if (iteration.publish_name):\n",
    "        print(\"published under \"+ iteration.publish_name, end=' ')\n",
    "        publish_iteration_name = iteration.publish_name\n",
    "    print(\" \")\n",
    "    \n",
    "print(\"using \"+ publish_iteration_name)\n"
   ]
  },
  {
   "cell_type": "markdown",
   "metadata": {},
   "source": [
    "## Init camera"
   ]
  },
  {
   "cell_type": "code",
   "execution_count": null,
   "metadata": {},
   "outputs": [],
   "source": [
    "\n",
    "camera = PiCamera()\n",
    "\n",
    "camera.resolution =(640,480)\n",
    "\n",
    "\n",
    "print (\"starting camera\")\n",
    "camera.start_preview()\n",
    "sleep(5)\n"
   ]
  },
  {
   "cell_type": "markdown",
   "metadata": {},
   "source": [
    "## send the picture to the cloud for analysis and print the result"
   ]
  },
  {
   "cell_type": "code",
   "execution_count": null,
   "metadata": {
    "scrolled": true
   },
   "outputs": [],
   "source": [
    "print (\"capture\")\n",
    "camera.capture('/home/pi/camera/image.jpg')\n",
    "\n",
    "\n",
    "print (\"analyzing\")\n",
    "with open('/home/pi/camera/image.jpg',mode=\"rb\") as test_data:\n",
    "    results = predictor.classify_image(projectid, publish_iteration_name, test_data.read())\n",
    "    for prediction in results.predictions:\n",
    "        print (\"\\t\" + prediction.tag_name + \": {0:.2f}%\".format(prediction.probability * 100))\n",
    "        \n",
    "\n"
   ]
  },
  {
   "cell_type": "markdown",
   "metadata": {},
   "source": [
    "## Exit"
   ]
  },
  {
   "cell_type": "code",
   "execution_count": null,
   "metadata": {},
   "outputs": [],
   "source": [
    "camera.stop_preview()"
   ]
  }
 ],
 "metadata": {
  "kernelspec": {
   "display_name": "Python 3",
   "language": "python",
   "name": "python3"
  },
  "language_info": {
   "codemirror_mode": {
    "name": "ipython",
    "version": 3
   },
   "file_extension": ".py",
   "mimetype": "text/x-python",
   "name": "python",
   "nbconvert_exporter": "python",
   "pygments_lexer": "ipython3",
   "version": "3.5.3"
  }
 },
 "nbformat": 4,
 "nbformat_minor": 2
}